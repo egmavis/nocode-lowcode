{
  "nbformat": 4,
  "nbformat_minor": 0,
  "metadata": {
    "colab": {
      "name": "proj1-data.ipynb",
      "provenance": [],
      "authorship_tag": "ABX9TyOPoK1UvKBkDEP0ukKwcoQK",
      "include_colab_link": true
    },
    "kernelspec": {
      "name": "python3",
      "display_name": "Python 3"
    },
    "language_info": {
      "name": "python"
    }
  },
  "cells": [
    {
      "cell_type": "markdown",
      "metadata": {
        "id": "view-in-github",
        "colab_type": "text"
      },
      "source": [
        "<a href=\"https://colab.research.google.com/github/egmavis/nocode-lowcode/blob/main/proj1_data.ipynb\" target=\"_parent\"><img src=\"https://colab.research.google.com/assets/colab-badge.svg\" alt=\"Open In Colab\"/></a>"
      ]
    },
    {
      "cell_type": "markdown",
      "metadata": {
        "id": "kZWQkToMl1uJ"
      },
      "source": [
        "## Ingest Data"
      ]
    },
    {
      "cell_type": "markdown",
      "metadata": {
        "id": "2ZoHFqkPmBIj"
      },
      "source": [
        "This will download the book"
      ]
    },
    {
      "cell_type": "code",
      "metadata": {
        "colab": {
          "base_uri": "https://localhost:8080/"
        },
        "id": "D5kFWJoXlxdD",
        "outputId": "f3efe1e4-9aac-4e8c-bb60-8d18b63b38ac"
      },
      "source": [
        "!wget https://raw.githubusercontent.com/egmavis/nocode-lowcode/main/austen-emma.txt"
      ],
      "execution_count": 1,
      "outputs": [
        {
          "output_type": "stream",
          "name": "stdout",
          "text": [
            "--2021-10-09 19:47:09--  https://raw.githubusercontent.com/egmavis/nocode-lowcode/main/austen-emma.txt\n",
            "Resolving raw.githubusercontent.com (raw.githubusercontent.com)... 185.199.108.133, 185.199.109.133, 185.199.110.133, ...\n",
            "Connecting to raw.githubusercontent.com (raw.githubusercontent.com)|185.199.108.133|:443... connected.\n",
            "HTTP request sent, awaiting response... 200 OK\n",
            "Length: 893396 (872K) [text/plain]\n",
            "Saving to: ‘austen-emma.txt’\n",
            "\n",
            "austen-emma.txt     100%[===================>] 872.46K  --.-KB/s    in 0.05s   \n",
            "\n",
            "2021-10-09 19:47:09 (15.9 MB/s) - ‘austen-emma.txt’ saved [893396/893396]\n",
            "\n"
          ]
        }
      ]
    },
    {
      "cell_type": "code",
      "metadata": {
        "colab": {
          "base_uri": "https://localhost:8080/"
        },
        "id": "zZjToKFGmDfG",
        "outputId": "b5a0ba2e-2b2b-4704-aa9d-1d9aeee579a5"
      },
      "source": [
        "!head austen-emma.txt"
      ],
      "execution_count": 2,
      "outputs": [
        {
          "output_type": "stream",
          "name": "stdout",
          "text": [
            "CHAPTER I\n",
            "\n",
            "Emma Woodhouse, handsome, clever, and rich, with a comfortable home and happy disposition, seemed to unite some of the best blessings of existence; and had lived nearly twenty-one years in the world with very little to distress or vex her.\n",
            "She was the youngest of the two daughters of a most affectionate, indulgent father; and had, in consequence of her sister’s marriage, been mistress of his house from a very early period. Her mother had died too long ago for her to have more than an indistinct remembrance of her caresses; and her place had been supplied by an excellent woman as governess, who had fallen little short of a mother in affection.\n",
            "Sixteen years had Miss Taylor been in Mr. Woodhouse’s family, less as a governess than a friend, very fond of both daughters, but particularly of Emma. Between them it was more the intimacy of sisters. Even before Miss Taylor had ceased to hold the nominal office of governess, the mildness of her temper had hardly allowed her to impose any restraint; and the shadow of authority being now long passed away, they had been living together as friend and friend very mutually attached, and Emma doing just what she liked; highly esteeming Miss Taylor’s judgment, but directed chiefly by her own.\n",
            "The real evils, indeed, of Emma’s situation were the power of having rather too much her own way, and a disposition to think a little too well of herself; these were the disadvantages which threatened alloy to her many enjoyments. The danger, however, was at present so unperceived, that they did not by any means rank as misfortunes with her.\n",
            "Sorrow came—a gentle sorrow—but not at all in the shape of any disagreeable consciousness.—Miss Taylor married. It was Miss Taylor’s loss which first brought grief. It was on the wedding-day of this beloved friend that Emma first sat in mournful thought of any continuance. The wedding over, and the bride-people gone, her father and herself were left to dine together, with no prospect of a third to cheer a long evening. Her father composed himself to sleep after dinner, as usual, and she had then only to sit and think of what she had lost.\n",
            "The event had every promise of happiness for her friend. Mr. Weston was a man of unexceptionable character, easy fortune, suitable age, and pleasant manners; and there was some satisfaction in considering with what self-denying, generous friendship she had always wished and promoted the match; but it was a black morning’s work for her. The want of Miss Taylor would be felt every hour of every day. She recalled her past kindness—the kindness, the affection of sixteen years—how she had taught and how she had played with her from five years old—how she had devoted all her powers to attach and amuse her in health—and how nursed her through the various illnesses of childhood. A large debt of gratitude was owing here; but the intercourse of the last seven years, the equal footing and perfect unreserve which had soon followed Isabella’s marriage, on their being left to each other, was yet a dearer, tenderer recollection. She had been a friend and companion such as few possessed: intelligent, well-informed, useful, gentle, knowing all the ways of the family, interested in all its concerns, and peculiarly interested in herself, in every pleasure, every scheme of hers—one to whom she could speak every thought as it arose, and who had such an affection for her as could never find fault.\n",
            "How was she to bear the change?—It was true that her friend was going only half a mile from them; but Emma was aware that great must be the difference between a Mrs. Weston, only half a mile from them, and a Miss Taylor in the house; and with all her advantages, natural and domestic, she was now in great danger of suffering from intellectual solitude. She dearly loved her father, but he was no companion for her. He could not meet her in conversation, rational or playful.\n",
            "The evil of the actual disparity in their ages (and Mr. Woodhouse had not married early) was much increased by his constitution and habits; for having been a valetudinarian all his life, without activity of mind or body, he was a much older man in ways than in years; and though everywhere beloved for the friendliness of his heart and his amiable temper, his talents could not have recommended him at any time.\n"
          ]
        }
      ]
    },
    {
      "cell_type": "code",
      "metadata": {
        "colab": {
          "base_uri": "https://localhost:8080/"
        },
        "id": "Sh5B85yUmOlP",
        "outputId": "bea7cd81-781b-4733-d4b4-a12b48e80172"
      },
      "source": [
        "!tail austen-emma.txt"
      ],
      "execution_count": 3,
      "outputs": [
        {
          "output_type": "stream",
          "name": "stdout",
          "text": [
            "Harriet, necessarily drawn away by her engagements with the Martins, was less and less at Hartfield; which was not to be regretted.—The intimacy between her and Emma must sink; their friendship must change into a calmer sort of goodwill; and, fortunately, what ought to be, and must be, seemed already beginning, and in the most gradual, natural manner.\n",
            "Before the end of September, Emma attended Harriet to church, and saw her hand bestowed on Robert Martin with so complete a satisfaction, as no remembrances, even connected with Mr. Elton as he stood before them, could impair.—Perhaps, indeed, at that time she scarcely saw Mr. Elton, but as the clergyman whose blessing at the altar might next fall on herself.—Robert Martin and Harriet Smith, the latest couple engaged of the three, were the first to be married.\n",
            "Jane Fairfax had already quitted Highbury, and was restored to the comforts of her beloved home with the Campbells.—The Mr. Churchills were also in town; and they were only waiting for November.\n",
            "The intermediate month was the one fixed on, as far as they dared, by Emma and Mr. Knightley.—They had determined that their marriage ought to be concluded while John and Isabella were still at Hartfield, to allow them the fortnight’s absence in a tour to the seaside, which was the plan.—John and Isabella, and every other friend, were agreed in approving it. But Mr. Woodhouse—how was Mr. Woodhouse to be induced to consent?—he, who had never yet alluded to their marriage but as a distant event.\n",
            "When first sounded on the subject, he was so miserable, that they were almost hopeless.—A second allusion, indeed, gave less pain.—He began to think it was to be, and that he could not prevent it—a very promising step of the mind on its way to resignation. Still, however, he was not happy. Nay, he appeared so much otherwise, that his daughter’s courage failed. She could not bear to see him suffering, to know him fancying himself neglected; and though her understanding almost acquiesced in the assurance of both the Mr. Knightleys, that when once the event were over, his distress would be soon over too, she hesitated—she could not proceed.\n",
            "In this state of suspense they were befriended, not by any sudden illumination of Mr. Woodhouse’s mind, or any wonderful change of his nervous system, but by the operation of the same system in another way.—Mrs. Weston’s poultry-house was robbed one night of all her turkeys—evidently by the ingenuity of man. Other poultry-yards in the neighbourhood also suffered.—Pilfering was housebreaking to Mr. Woodhouse’s fears.—He was very uneasy; and but for the sense of his son-in-law’s protection, would have been under wretched alarm every night of his life. The strength, resolution, and presence of mind of the Mr. Knightleys, commanded his fullest dependence. While either of them protected him and his, Hartfield was safe.—But Mr. John Knightley must be in London again by the end of the first week in November.\n",
            "The result of this distress was, that, with a much more voluntary, cheerful consent than his daughter had ever presumed to hope for at the moment, she was able to fix her wedding-day—and Mr. Elton was called on, within a month from the marriage of Mr. and Mrs. Robert Martin, to join the hands of Mr. Knightley and Miss Woodhouse.\n",
            "The wedding was very much like other weddings, where the parties have no taste for finery or parade; and Mrs. Elton, from the particulars detailed by her husband, thought it all extremely shabby, and very inferior to her own.—“Very little white satin, very few lace veils; a most pitiful business!—Selina would stare when she heard of it.”—But, in spite of these deficiencies, the wishes, the hopes, the confidence, the predictions of the small band of true friends who witnessed the ceremony, were fully answered in the perfect happiness of the union.\n",
            "FINIS\n",
            "\n"
          ]
        }
      ]
    },
    {
      "cell_type": "code",
      "metadata": {
        "id": "8WjOAdMpmQMc"
      },
      "source": [
        ""
      ],
      "execution_count": null,
      "outputs": []
    }
  ]
}